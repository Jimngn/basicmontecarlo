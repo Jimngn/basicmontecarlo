{
 "cells": [
  {
   "cell_type": "markdown",
   "id": "95605c86-226b-41b7-9610-e83fbfeddbc1",
   "metadata": {},
   "source": [
    "# Monto Carlo Simulation of SP500"
   ]
  },
  {
   "cell_type": "markdown",
   "id": "bacb95cc-71c2-4b25-982d-902713bd08d2",
   "metadata": {},
   "source": [
    "**Question: Start with 10k, invest 10k more annually, what is the probability that you will have at least 1mil after 30 years of investing inthe S&P 500 ETF**"
   ]
  },
  {
   "cell_type": "code",
   "execution_count": 98,
   "id": "75b87ed2-a9bc-40f0-a118-e6cddfbb5bbe",
   "metadata": {},
   "outputs": [
    {
     "data": {
      "text/plain": [
       "'en_US.UTF-8'"
      ]
     },
     "execution_count": 98,
     "metadata": {},
     "output_type": "execute_result"
    }
   ],
   "source": [
    "import numpy as np\n",
    "from pandas import Series, DataFrame\n",
    "%matplotlib inline\n",
    "import matplotlib.pyplot as plots\n",
    "import pandas as pd\n",
    "#for currency formatting\n",
    "import locale\n",
    "locale.setlocale(locale.LC_ALL, '')"
   ]
  },
  {
   "cell_type": "code",
   "execution_count": 99,
   "id": "a6d922ba-2914-473e-b8e4-c36bf3976e62",
   "metadata": {},
   "outputs": [
    {
     "name": "stdout",
     "output_type": "stream",
     "text": [
      "0: $20,700.00\n",
      "1: $32,149.00\n",
      "2: $44,399.43\n",
      "3: $57,507.39\n",
      "4: $71,532.91\n",
      "5: $86,540.21\n",
      "6: $102,598.03\n",
      "7: $119,779.89\n",
      "8: $138,164.48\n",
      "9: $157,835.99\n",
      "10: $178,884.51\n",
      "11: $201,406.43\n",
      "12: $225,504.88\n",
      "13: $251,290.22\n",
      "14: $278,880.54\n",
      "15: $308,402.17\n",
      "16: $339,990.33\n",
      "17: $373,789.65\n",
      "18: $409,954.92\n",
      "19: $448,651.77\n",
      "20: $490,057.39\n",
      "21: $534,361.41\n",
      "22: $581,766.71\n",
      "23: $632,490.38\n",
      "24: $686,764.70\n",
      "25: $744,838.23\n",
      "26: $806,976.91\n",
      "27: $873,465.29\n",
      "28: $944,607.86\n",
      "29: $1,020,730.41\n"
     ]
    }
   ],
   "source": [
    "# trad savings calculator appraoach\n",
    "\n",
    "pv = 10000\n",
    "time_horizon = 30\n",
    "i = 0.07\n",
    "additions = 10000\n",
    "\n",
    "for year in range(time_horizon):\n",
    "    ending = pv * (1+i) + additions\n",
    "    print(str(year) + \": \" + locale.currency(ending, grouping=True))\n",
    "    pv = ending\n"
   ]
  },
  {
   "cell_type": "code",
   "execution_count": 100,
   "id": "2edac411-4f3f-4113-b923-4bd3aaad377c",
   "metadata": {},
   "outputs": [
    {
     "name": "stdout",
     "output_type": "stream",
     "text": [
      "\tReturn     \t\tEnding Value\n",
      "\t-0.0065               \t$19,935.12\n",
      "\t0.1037               \t$32,002.01\n",
      "\t0.2376               \t$49,604.64\n",
      "\t0.1723               \t$68,149.41\n",
      "\t0.2503               \t$95,208.73\n",
      "\t0.2295               \t$127,062.60\n",
      "\t-0.0762               \t$127,374.56\n",
      "\t-0.2079               \t$110,894.79\n",
      "\t0.0171               \t$122,792.67\n",
      "\t0.4886               \t$192,793.61\n",
      "\t-0.1421               \t$175,406.44\n",
      "\t0.1384               \t$209,682.55\n",
      "\t0.3821               \t$299,792.80\n",
      "\t-0.0583               \t$292,311.43\n",
      "\t-0.0636               \t$283,716.94\n",
      "\t0.0191               \t$299,134.48\n",
      "\t0.0633               \t$328,078.76\n",
      "\t-0.0068               \t$335,837.81\n",
      "\t0.0072               \t$348,266.48\n",
      "\t0.003               \t$359,305.69\n",
      "\t0.2017               \t$441,770.58\n",
      "\t0.075               \t$484,925.34\n",
      "\t0.2943               \t$637,660.80\n",
      "\t0.0576               \t$684,403.78\n",
      "\t-0.1098               \t$619,271.78\n",
      "\t-0.0768               \t$581,737.33\n",
      "\t0.0553               \t$623,936.42\n",
      "\t-0.2881               \t$454,187.12\n",
      "\t-0.2784               \t$337,753.93\n",
      "\t0.1598               \t$401,734.27\n"
     ]
    }
   ],
   "source": [
    "# Generate one possible future value based on market history\n",
    "# We use 9% expected return with 18% volatility\n",
    "\n",
    "pv = 10000\n",
    "expected_return =  0.09\n",
    "volatility = 0.18\n",
    "time_horizon = 30\n",
    "annual_addition = 10000\n",
    "\n",
    "print(\"\\tReturn\", \"\\t\\tEnding Value\".rjust(18))\n",
    "for year in range(time_horizon):\n",
    "    market_return = np.random.normal(expected_return, volatility)\n",
    "    fv = pv * (1 + market_return) + annual_addition\n",
    "    print(\"\\t{}\".ljust(10).format(round(market_return,4)), \"\\t{}\".rjust(10).format(locale.currency(fv, grouping=True)))\n",
    "    pv = fv"
   ]
  },
  {
   "cell_type": "code",
   "execution_count": 110,
   "id": "6e280868-3e03-41e3-8db3-9d3518a94f88",
   "metadata": {},
   "outputs": [],
   "source": [
    "iterations = 20000\n",
    "all_streams = []\n",
    "\n",
    "for x in range(iterations):\n",
    "    expected_return = 0.09\n",
    "    volatility = 0.18\n",
    "    time_horizon = 30\n",
    "    pv = 10000\n",
    "    annual_investment = 10000\n",
    "    stream = []\n",
    "    \n",
    "    for i in range(time_horizon):\n",
    "        end = round(pv * (1 + np.random.normal(expected_return, volatility)) + annual_investment, 2)\n",
    "        stream.append(end)\n",
    "        pv = end\n",
    "    \n",
    "    all_streams.append(stream)\n",
    "\n",
    "# Concatenate all streams into a DataFrame\n",
    "sim = pd.concat([pd.Series(stream) for stream in all_streams], axis=1)\n"
   ]
  },
  {
   "cell_type": "code",
   "execution_count": 111,
   "id": "7cd60234-892b-4fba-95c0-a2f44d179eca",
   "metadata": {},
   "outputs": [
    {
     "data": {
      "text/html": [
       "<div>\n",
       "<style scoped>\n",
       "    .dataframe tbody tr th:only-of-type {\n",
       "        vertical-align: middle;\n",
       "    }\n",
       "\n",
       "    .dataframe tbody tr th {\n",
       "        vertical-align: top;\n",
       "    }\n",
       "\n",
       "    .dataframe thead th {\n",
       "        text-align: right;\n",
       "    }\n",
       "</style>\n",
       "<table border=\"1\" class=\"dataframe\">\n",
       "  <thead>\n",
       "    <tr style=\"text-align: right;\">\n",
       "      <th></th>\n",
       "      <th>0</th>\n",
       "      <th>1</th>\n",
       "      <th>2</th>\n",
       "      <th>3</th>\n",
       "      <th>4</th>\n",
       "    </tr>\n",
       "  </thead>\n",
       "  <tbody>\n",
       "    <tr>\n",
       "      <th>0</th>\n",
       "      <td>24221.17</td>\n",
       "      <td>22735.03</td>\n",
       "      <td>19998.05</td>\n",
       "      <td>21006.12</td>\n",
       "      <td>21572.17</td>\n",
       "    </tr>\n",
       "    <tr>\n",
       "      <th>1</th>\n",
       "      <td>33596.22</td>\n",
       "      <td>41781.29</td>\n",
       "      <td>30634.88</td>\n",
       "      <td>37930.38</td>\n",
       "      <td>26669.89</td>\n",
       "    </tr>\n",
       "    <tr>\n",
       "      <th>2</th>\n",
       "      <td>37276.82</td>\n",
       "      <td>63920.25</td>\n",
       "      <td>45485.97</td>\n",
       "      <td>47109.18</td>\n",
       "      <td>43991.21</td>\n",
       "    </tr>\n",
       "    <tr>\n",
       "      <th>3</th>\n",
       "      <td>51687.05</td>\n",
       "      <td>83421.57</td>\n",
       "      <td>53860.64</td>\n",
       "      <td>64946.31</td>\n",
       "      <td>57477.97</td>\n",
       "    </tr>\n",
       "    <tr>\n",
       "      <th>4</th>\n",
       "      <td>53541.52</td>\n",
       "      <td>76529.81</td>\n",
       "      <td>68702.20</td>\n",
       "      <td>60076.34</td>\n",
       "      <td>63618.38</td>\n",
       "    </tr>\n",
       "    <tr>\n",
       "      <th>5</th>\n",
       "      <td>74802.59</td>\n",
       "      <td>106931.15</td>\n",
       "      <td>93728.44</td>\n",
       "      <td>71464.86</td>\n",
       "      <td>59980.65</td>\n",
       "    </tr>\n",
       "    <tr>\n",
       "      <th>6</th>\n",
       "      <td>87839.27</td>\n",
       "      <td>123507.92</td>\n",
       "      <td>107297.27</td>\n",
       "      <td>81719.64</td>\n",
       "      <td>82141.92</td>\n",
       "    </tr>\n",
       "    <tr>\n",
       "      <th>7</th>\n",
       "      <td>109960.42</td>\n",
       "      <td>124157.97</td>\n",
       "      <td>122540.72</td>\n",
       "      <td>85336.54</td>\n",
       "      <td>117358.17</td>\n",
       "    </tr>\n",
       "    <tr>\n",
       "      <th>8</th>\n",
       "      <td>138439.16</td>\n",
       "      <td>154132.67</td>\n",
       "      <td>154601.43</td>\n",
       "      <td>98248.33</td>\n",
       "      <td>141123.91</td>\n",
       "    </tr>\n",
       "    <tr>\n",
       "      <th>9</th>\n",
       "      <td>177270.83</td>\n",
       "      <td>197953.69</td>\n",
       "      <td>188642.71</td>\n",
       "      <td>113345.84</td>\n",
       "      <td>161869.18</td>\n",
       "    </tr>\n",
       "    <tr>\n",
       "      <th>10</th>\n",
       "      <td>221553.69</td>\n",
       "      <td>253486.70</td>\n",
       "      <td>216313.93</td>\n",
       "      <td>143882.08</td>\n",
       "      <td>201425.73</td>\n",
       "    </tr>\n",
       "    <tr>\n",
       "      <th>11</th>\n",
       "      <td>262412.51</td>\n",
       "      <td>221884.97</td>\n",
       "      <td>160247.24</td>\n",
       "      <td>107744.44</td>\n",
       "      <td>244436.07</td>\n",
       "    </tr>\n",
       "    <tr>\n",
       "      <th>12</th>\n",
       "      <td>381776.87</td>\n",
       "      <td>269499.38</td>\n",
       "      <td>170911.57</td>\n",
       "      <td>140024.54</td>\n",
       "      <td>248704.03</td>\n",
       "    </tr>\n",
       "    <tr>\n",
       "      <th>13</th>\n",
       "      <td>342397.98</td>\n",
       "      <td>323354.10</td>\n",
       "      <td>189416.00</td>\n",
       "      <td>166009.27</td>\n",
       "      <td>225306.51</td>\n",
       "    </tr>\n",
       "    <tr>\n",
       "      <th>14</th>\n",
       "      <td>362454.83</td>\n",
       "      <td>421464.06</td>\n",
       "      <td>191835.18</td>\n",
       "      <td>234053.77</td>\n",
       "      <td>370841.15</td>\n",
       "    </tr>\n",
       "    <tr>\n",
       "      <th>15</th>\n",
       "      <td>389983.59</td>\n",
       "      <td>349943.10</td>\n",
       "      <td>208992.52</td>\n",
       "      <td>241919.48</td>\n",
       "      <td>384086.28</td>\n",
       "    </tr>\n",
       "    <tr>\n",
       "      <th>16</th>\n",
       "      <td>382572.37</td>\n",
       "      <td>366309.23</td>\n",
       "      <td>262697.43</td>\n",
       "      <td>350846.63</td>\n",
       "      <td>450653.21</td>\n",
       "    </tr>\n",
       "    <tr>\n",
       "      <th>17</th>\n",
       "      <td>421023.60</td>\n",
       "      <td>444838.76</td>\n",
       "      <td>282473.71</td>\n",
       "      <td>379864.60</td>\n",
       "      <td>648403.32</td>\n",
       "    </tr>\n",
       "    <tr>\n",
       "      <th>18</th>\n",
       "      <td>397673.65</td>\n",
       "      <td>441611.67</td>\n",
       "      <td>370266.73</td>\n",
       "      <td>442883.36</td>\n",
       "      <td>946864.90</td>\n",
       "    </tr>\n",
       "    <tr>\n",
       "      <th>19</th>\n",
       "      <td>419040.12</td>\n",
       "      <td>544824.24</td>\n",
       "      <td>474481.22</td>\n",
       "      <td>438032.13</td>\n",
       "      <td>1191031.15</td>\n",
       "    </tr>\n",
       "    <tr>\n",
       "      <th>20</th>\n",
       "      <td>424692.37</td>\n",
       "      <td>624363.90</td>\n",
       "      <td>409239.71</td>\n",
       "      <td>562049.57</td>\n",
       "      <td>1348205.71</td>\n",
       "    </tr>\n",
       "    <tr>\n",
       "      <th>21</th>\n",
       "      <td>462489.74</td>\n",
       "      <td>623820.13</td>\n",
       "      <td>444021.44</td>\n",
       "      <td>571126.12</td>\n",
       "      <td>1717996.40</td>\n",
       "    </tr>\n",
       "    <tr>\n",
       "      <th>22</th>\n",
       "      <td>604075.82</td>\n",
       "      <td>739797.17</td>\n",
       "      <td>482811.80</td>\n",
       "      <td>516763.45</td>\n",
       "      <td>1743425.79</td>\n",
       "    </tr>\n",
       "    <tr>\n",
       "      <th>23</th>\n",
       "      <td>728890.31</td>\n",
       "      <td>717125.24</td>\n",
       "      <td>612590.89</td>\n",
       "      <td>397654.69</td>\n",
       "      <td>2103284.25</td>\n",
       "    </tr>\n",
       "    <tr>\n",
       "      <th>24</th>\n",
       "      <td>1137752.00</td>\n",
       "      <td>582006.64</td>\n",
       "      <td>813419.57</td>\n",
       "      <td>513823.67</td>\n",
       "      <td>2389555.50</td>\n",
       "    </tr>\n",
       "    <tr>\n",
       "      <th>25</th>\n",
       "      <td>1208888.58</td>\n",
       "      <td>624177.30</td>\n",
       "      <td>1043273.22</td>\n",
       "      <td>575291.56</td>\n",
       "      <td>1966653.93</td>\n",
       "    </tr>\n",
       "    <tr>\n",
       "      <th>26</th>\n",
       "      <td>1100951.02</td>\n",
       "      <td>713585.31</td>\n",
       "      <td>1079390.28</td>\n",
       "      <td>511396.54</td>\n",
       "      <td>1134831.79</td>\n",
       "    </tr>\n",
       "    <tr>\n",
       "      <th>27</th>\n",
       "      <td>1616299.87</td>\n",
       "      <td>705559.85</td>\n",
       "      <td>1376555.69</td>\n",
       "      <td>385477.14</td>\n",
       "      <td>1035389.21</td>\n",
       "    </tr>\n",
       "    <tr>\n",
       "      <th>28</th>\n",
       "      <td>1843986.42</td>\n",
       "      <td>728133.59</td>\n",
       "      <td>1238995.29</td>\n",
       "      <td>576324.71</td>\n",
       "      <td>1364576.67</td>\n",
       "    </tr>\n",
       "    <tr>\n",
       "      <th>29</th>\n",
       "      <td>1792198.84</td>\n",
       "      <td>624187.46</td>\n",
       "      <td>1518479.79</td>\n",
       "      <td>477794.53</td>\n",
       "      <td>1746678.21</td>\n",
       "    </tr>\n",
       "  </tbody>\n",
       "</table>\n",
       "</div>"
      ],
      "text/plain": [
       "             0          1           2          3           4\n",
       "0     24221.17   22735.03    19998.05   21006.12    21572.17\n",
       "1     33596.22   41781.29    30634.88   37930.38    26669.89\n",
       "2     37276.82   63920.25    45485.97   47109.18    43991.21\n",
       "3     51687.05   83421.57    53860.64   64946.31    57477.97\n",
       "4     53541.52   76529.81    68702.20   60076.34    63618.38\n",
       "5     74802.59  106931.15    93728.44   71464.86    59980.65\n",
       "6     87839.27  123507.92   107297.27   81719.64    82141.92\n",
       "7    109960.42  124157.97   122540.72   85336.54   117358.17\n",
       "8    138439.16  154132.67   154601.43   98248.33   141123.91\n",
       "9    177270.83  197953.69   188642.71  113345.84   161869.18\n",
       "10   221553.69  253486.70   216313.93  143882.08   201425.73\n",
       "11   262412.51  221884.97   160247.24  107744.44   244436.07\n",
       "12   381776.87  269499.38   170911.57  140024.54   248704.03\n",
       "13   342397.98  323354.10   189416.00  166009.27   225306.51\n",
       "14   362454.83  421464.06   191835.18  234053.77   370841.15\n",
       "15   389983.59  349943.10   208992.52  241919.48   384086.28\n",
       "16   382572.37  366309.23   262697.43  350846.63   450653.21\n",
       "17   421023.60  444838.76   282473.71  379864.60   648403.32\n",
       "18   397673.65  441611.67   370266.73  442883.36   946864.90\n",
       "19   419040.12  544824.24   474481.22  438032.13  1191031.15\n",
       "20   424692.37  624363.90   409239.71  562049.57  1348205.71\n",
       "21   462489.74  623820.13   444021.44  571126.12  1717996.40\n",
       "22   604075.82  739797.17   482811.80  516763.45  1743425.79\n",
       "23   728890.31  717125.24   612590.89  397654.69  2103284.25\n",
       "24  1137752.00  582006.64   813419.57  513823.67  2389555.50\n",
       "25  1208888.58  624177.30  1043273.22  575291.56  1966653.93\n",
       "26  1100951.02  713585.31  1079390.28  511396.54  1134831.79\n",
       "27  1616299.87  705559.85  1376555.69  385477.14  1035389.21\n",
       "28  1843986.42  728133.59  1238995.29  576324.71  1364576.67\n",
       "29  1792198.84  624187.46  1518479.79  477794.53  1746678.21"
      ]
     },
     "execution_count": 111,
     "metadata": {},
     "output_type": "execute_result"
    }
   ],
   "source": [
    "# 5. Sample first five streams of annual ending values\n",
    "first_five = list(range(5))\n",
    "sim[first_five]"
   ]
  },
  {
   "cell_type": "code",
   "execution_count": 112,
   "id": "ac167693-1503-4130-a869-28ccdcb2da63",
   "metadata": {},
   "outputs": [
    {
     "data": {
      "text/plain": [
       "[<matplotlib.lines.Line2D at 0x1173da990>,\n",
       " <matplotlib.lines.Line2D at 0x1173daad0>,\n",
       " <matplotlib.lines.Line2D at 0x1173dac10>,\n",
       " <matplotlib.lines.Line2D at 0x1173dad50>,\n",
       " <matplotlib.lines.Line2D at 0x1173dae90>]"
      ]
     },
     "execution_count": 112,
     "metadata": {},
     "output_type": "execute_result"
    },
    {
     "data": {
      "image/png": "[encoded data removed]",
      "text/plain": [
       "<Figure size 640x480 with 1 Axes>"
      ]
     },
     "metadata": {},
     "output_type": "display_data"
    }
   ],
   "source": [
    "# 6. Plot first five simulated portfolios\n",
    "plots.plot(sim[first_five])"
   ]
  },
  {
   "cell_type": "code",
   "execution_count": 113,
   "id": "78c5b1bc-246c-42c2-b26f-43887b25b325",
   "metadata": {},
   "outputs": [
    {
     "name": "stdout",
     "output_type": "stream",
     "text": [
      "Count: 20000\n",
      "Mean:  $1,511,968.96\n",
      "SD:  $1,185,920.42\n",
      "Max:  $18,912,724.77\n",
      "Min:  $108,466.94\n"
     ]
    }
   ],
   "source": [
    "# 7. Generate summary statistics with numpy functions\n",
    "\n",
    "print(\"Count:\", len(sim.loc[29]))\n",
    "print(\"Mean: \", locale.currency(np.mean(sim.loc[29]),grouping=True))\n",
    "print(\"SD: \",locale.currency(np.std(sim.loc[29]),grouping=True))\n",
    "print(\"Max: \",locale.currency(np.max(sim.loc[29]), grouping=True))\n",
    "print(\"Min: \", locale.currency(np.min(sim.loc[29]), grouping=True))"
   ]
  },
  {
   "cell_type": "code",
   "execution_count": 114,
   "id": "b3c034d9-d446-419e-80d0-7facd2fba1b0",
   "metadata": {},
   "outputs": [
    {
     "data": {
      "text/plain": [
       "count    2.000000e+04\n",
       "mean     1.511969e+06\n",
       "std      1.185950e+06\n",
       "min      1.084669e+05\n",
       "25%      7.510573e+05\n",
       "50%      1.182542e+06\n",
       "75%      1.882059e+06\n",
       "max      1.891272e+07\n",
       "Name: 29, dtype: float64"
      ]
     },
     "execution_count": 114,
     "metadata": {},
     "output_type": "execute_result"
    }
   ],
   "source": [
    "# 8. Generating more comprehensive summary statistics with pandas describe function\n",
    "ending_values = sim.loc[29]\n",
    "ending_values.describe()"
   ]
  },
  {
   "cell_type": "code",
   "execution_count": 115,
   "id": "da9be85f-8c6c-436b-a091-fb940a3cdc19",
   "metadata": {},
   "outputs": [
    {
     "data": {
      "text/plain": [
       "(array([3.070e+02, 1.492e+03, 2.164e+03, 2.380e+03, 2.214e+03, 1.938e+03,\n",
       "        1.625e+03, 1.390e+03, 1.074e+03, 8.880e+02, 7.520e+02, 5.820e+02,\n",
       "        4.760e+02, 4.300e+02, 3.560e+02, 3.180e+02, 2.280e+02, 1.960e+02,\n",
       "        1.630e+02, 1.420e+02, 1.380e+02, 1.080e+02, 7.300e+01, 6.700e+01,\n",
       "        5.800e+01, 5.700e+01, 5.500e+01, 5.200e+01, 2.700e+01, 2.700e+01,\n",
       "        2.200e+01, 2.300e+01, 2.300e+01, 1.700e+01, 1.300e+01, 1.400e+01,\n",
       "        1.000e+01, 1.300e+01, 1.000e+01, 7.000e+00, 4.000e+00, 5.000e+00,\n",
       "        7.000e+00, 7.000e+00, 2.000e+00, 5.000e+00, 3.000e+00, 1.000e+00,\n",
       "        5.000e+00, 7.000e+00, 0.000e+00, 2.000e+00, 0.000e+00, 0.000e+00,\n",
       "        2.000e+00, 1.000e+00, 0.000e+00, 0.000e+00, 2.000e+00, 0.000e+00,\n",
       "        0.000e+00, 3.000e+00, 2.000e+00, 2.000e+00, 4.000e+00, 0.000e+00,\n",
       "        0.000e+00, 1.000e+00, 0.000e+00, 1.000e+00, 0.000e+00, 1.000e+00,\n",
       "        0.000e+00, 0.000e+00, 0.000e+00, 0.000e+00, 0.000e+00, 0.000e+00,\n",
       "        0.000e+00, 0.000e+00, 0.000e+00, 0.000e+00, 0.000e+00, 0.000e+00,\n",
       "        1.000e+00, 0.000e+00, 0.000e+00, 0.000e+00, 0.000e+00, 0.000e+00,\n",
       "        0.000e+00, 1.000e+00, 0.000e+00, 0.000e+00, 1.000e+00, 0.000e+00,\n",
       "        0.000e+00, 0.000e+00, 0.000e+00, 1.000e+00]),\n",
       " array([  108466.94  ,   296509.5183,   484552.0966,   672594.6749,\n",
       "          860637.2532,  1048679.8315,  1236722.4098,  1424764.9881,\n",
       "         1612807.5664,  1800850.1447,  1988892.723 ,  2176935.3013,\n",
       "         2364977.8796,  2553020.4579,  2741063.0362,  2929105.6145,\n",
       "         3117148.1928,  3305190.7711,  3493233.3494,  3681275.9277,\n",
       "         3869318.506 ,  4057361.0843,  4245403.6626,  4433446.2409,\n",
       "         4621488.8192,  4809531.3975,  4997573.9758,  5185616.5541,\n",
       "         5373659.1324,  5561701.7107,  5749744.289 ,  5937786.8673,\n",
       "         6125829.4456,  6313872.0239,  6501914.6022,  6689957.1805,\n",
       "         6877999.7588,  7066042.3371,  7254084.9154,  7442127.4937,\n",
       "         7630170.072 ,  7818212.6503,  8006255.2286,  8194297.8069,\n",
       "         8382340.3852,  8570382.9635,  8758425.5418,  8946468.1201,\n",
       "         9134510.6984,  9322553.2767,  9510595.855 ,  9698638.4333,\n",
       "         9886681.0116, 10074723.5899, 10262766.1682, 10450808.7465,\n",
       "        10638851.3248, 10826893.9031, 11014936.4814, 11202979.0597,\n",
       "        11391021.638 , 11579064.2163, 11767106.7946, 11955149.3729,\n",
       "        12143191.9512, 12331234.5295, 12519277.1078, 12707319.6861,\n",
       "        12895362.2644, 13083404.8427, 13271447.421 , 13459489.9993,\n",
       "        13647532.5776, 13835575.1559, 14023617.7342, 14211660.3125,\n",
       "        14399702.8908, 14587745.4691, 14775788.0474, 14963830.6257,\n",
       "        15151873.204 , 15339915.7823, 15527958.3606, 15716000.9389,\n",
       "        15904043.5172, 16092086.0955, 16280128.6738, 16468171.2521,\n",
       "        16656213.8304, 16844256.4087, 17032298.987 , 17220341.5653,\n",
       "        17408384.1436, 17596426.7219, 17784469.3002, 17972511.8785,\n",
       "        18160554.4568, 18348597.0351, 18536639.6134, 18724682.1917,\n",
       "        18912724.77  ]),\n",
       " <BarContainer object of 100 artists>)"
      ]
     },
     "execution_count": 115,
     "metadata": {},
     "output_type": "execute_result"
    },
    {
     "data": {
      "image/png": "[encoded data removed]",
      "text/plain": [
       "<Figure size 640x480 with 1 Axes>"
      ]
     },
     "metadata": {},
     "output_type": "display_data"
    }
   ],
   "source": [
    "# 9. Get a visualization of the distribution of ending values\n",
    "\n",
    "plots.hist(ending_values, bins=100)"
   ]
  },
  {
   "cell_type": "code",
   "execution_count": 116,
   "id": "0be2fccb-3528-490a-8ec4-fd561677da51",
   "metadata": {},
   "outputs": [
    {
     "data": {
      "text/plain": [
       "0.401"
      ]
     },
     "execution_count": 116,
     "metadata": {},
     "output_type": "execute_result"
    }
   ],
   "source": [
    "# 10. Calculate probability of seeing a specific ending_value or less, \n",
    "# for example get close to the 75%ile, or $1,000,000\n",
    "\n",
    "len(ending_values[ending_values<1000000]) / len(ending_values)"
   ]
  },
  {
   "cell_type": "code",
   "execution_count": 117,
   "id": "42aae41f-679e-4b7a-822a-0c05fc3c3fc9",
   "metadata": {},
   "outputs": [
    {
     "data": {
      "text/plain": [
       "0.17885"
      ]
     },
     "execution_count": 117,
     "metadata": {},
     "output_type": "execute_result"
    }
   ],
   "source": [
    "# 11. You can't really get a point estimate, but you can get a range ending values\n",
    "\n",
    "len(ending_values[(ending_values> 800000) & (ending_values< 1100000)]) /len(ending_values)"
   ]
  },
  {
   "cell_type": "code",
   "execution_count": 118,
   "id": "cc08d341-ec1d-494b-afa7-a2cde96706ef",
   "metadata": {},
   "outputs": [
    {
     "name": "stdout",
     "output_type": "stream",
     "text": [
      "       5%-ile:  $400,641.08\n",
      "      10%-ile:  $503,559.23\n",
      "      15%-ile:  $592,217.98\n",
      "      25%-ile:  $751,057.30\n",
      "      75%-ile:  $1,882,059.44\n",
      "      85%-ile:  $2,437,768.09\n",
      "      90%-ile:  $2,889,724.32\n",
      "      95%-ile:  $3,713,836.09\n"
     ]
    }
   ],
   "source": [
    "# 12. You can get a more comprehensive table of percentiles easily using numpy's percentile function\n",
    "\n",
    "p_tiles = np.percentile(ending_values,[5,10,15,25,75,85,90, 95])\n",
    "for p in range(len(p_tiles)):\n",
    "    l = [5,10,15,25,75,85,90,95]\n",
    "    print( \"{}%-ile: \".format(l[p]).rjust(15),\"{}\".format(locale.currency(p_tiles[p], grouping=True)))"
   ]
  },
  {
   "cell_type": "code",
   "execution_count": null,
   "id": "c664f03d-355c-4766-b7d1-b81abdc8b9d2",
   "metadata": {},
   "outputs": [],
   "source": []
  }
 ],
 "metadata": {
  "kernelspec": {
   "display_name": "Python 3 (ipykernel)",
   "language": "python",
   "name": "python3"
  },
  "language_info": {
   "codemirror_mode": {
    "name": "ipython",
    "version": 3
   },
   "file_extension": ".py",
   "mimetype": "text/x-python",
   "name": "python",
   "nbconvert_exporter": "python",
   "pygments_lexer": "ipython3",
   "version": "3.13.0"
  }
 },
 "nbformat": 4,
 "nbformat_minor": 5
}
