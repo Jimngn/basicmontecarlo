{
 "cells": [
  {
   "cell_type": "markdown",
   "id": "95605c86-226b-41b7-9610-e83fbfeddbc1",
   "metadata": {},
   "source": [
    "# Monto Carlo Simulation of SP500"
   ]
  },
  {
   "cell_type": "markdown",
   "id": "bacb95cc-71c2-4b25-982d-902713bd08d2",
   "metadata": {},
   "source": [
    "**Question: Start with 10k, invest 10k more annually, what is the probability that you will have at least 1mil after 30 years of investing inthe S&P 500 ETF**"
   ]
  },
  {
   "cell_type": "code",
   "execution_count": 33,
   "id": "75b87ed2-a9bc-40f0-a118-e6cddfbb5bbe",
   "metadata": {},
   "outputs": [
    {
     "data": {
      "text/plain": [
       "'en_US.UTF-8'"
      ]
     },
     "execution_count": 33,
     "metadata": {},
     "output_type": "execute_result"
    }
   ],
   "source": [
    "import numpy as np\n",
    "from pandas import Series, DataFrame\n",
    "%matplotlib inline\n",
    "import matplotlib.pyplot as plots\n",
    "\n",
    "#for currency formatting\n",
    "import locale\n",
    "locale.setlocale(locale.LC_ALL, '')"
   ]
  },
  {
   "cell_type": "code",
   "execution_count": 34,
   "id": "a6d922ba-2914-473e-b8e4-c36bf3976e62",
   "metadata": {},
   "outputs": [
    {
     "name": "stdout",
     "output_type": "stream",
     "text": [
      "0: $20,700.00\n",
      "1: $32,149.00\n",
      "2: $44,399.43\n",
      "3: $57,507.39\n",
      "4: $71,532.91\n",
      "5: $86,540.21\n",
      "6: $102,598.03\n",
      "7: $119,779.89\n",
      "8: $138,164.48\n",
      "9: $157,835.99\n",
      "10: $178,884.51\n",
      "11: $201,406.43\n",
      "12: $225,504.88\n",
      "13: $251,290.22\n",
      "14: $278,880.54\n",
      "15: $308,402.17\n",
      "16: $339,990.33\n",
      "17: $373,789.65\n",
      "18: $409,954.92\n",
      "19: $448,651.77\n",
      "20: $490,057.39\n",
      "21: $534,361.41\n",
      "22: $581,766.71\n",
      "23: $632,490.38\n",
      "24: $686,764.70\n",
      "25: $744,838.23\n",
      "26: $806,976.91\n",
      "27: $873,465.29\n",
      "28: $944,607.86\n",
      "29: $1,020,730.41\n"
     ]
    }
   ],
   "source": [
    "# trad savings calculator appraoach\n",
    "\n",
    "pv = 10000\n",
    "time_horizon = 30\n",
    "i = 0.07\n",
    "additions = 10000\n",
    "\n",
    "for year in range(time_horizon):\n",
    "    ending = pv * (1+i) + additions\n",
    "    print(str(year) + \": \" + locale.currency(ending, grouping=True))\n",
    "    pv = ending\n"
   ]
  },
  {
   "cell_type": "code",
   "execution_count": 35,
   "id": "2edac411-4f3f-4113-b923-4bd3aaad377c",
   "metadata": {},
   "outputs": [
    {
     "name": "stdout",
     "output_type": "stream",
     "text": [
      "\tReturn     \t\tEnding Value\n",
      "\t0.1256               \t$21,255.87\n",
      "\t0.3005               \t$37,642.93\n",
      "\t0.2522               \t$57,136.77\n",
      "\t0.0133               \t$67,897.63\n",
      "\t0.0237               \t$79,507.60\n",
      "\t-0.0447               \t$85,950.69\n",
      "\t-0.2712               \t$72,645.11\n",
      "\t-0.0604               \t$78,253.82\n",
      "\t0.1423               \t$99,386.66\n",
      "\t-0.0531               \t$104,108.33\n",
      "\t0.2068               \t$135,638.92\n",
      "\t0.4619               \t$208,289.74\n",
      "\t0.1266               \t$244,657.71\n",
      "\t0.0476               \t$266,315.45\n",
      "\t0.0378               \t$286,379.90\n",
      "\t-0.2041               \t$237,923.64\n",
      "\t0.303               \t$320,016.10\n",
      "\t0.1285               \t$371,143.98\n",
      "\t0.0079               \t$384,091.39\n",
      "\t-0.3928               \t$243,215.70\n",
      "\t0.4909               \t$372,604.67\n",
      "\t-0.2518               \t$288,766.09\n",
      "\t-0.0551               \t$282,863.56\n",
      "\t0.0284               \t$300,896.28\n",
      "\t0.0109               \t$314,172.24\n",
      "\t-0.1274               \t$284,132.67\n",
      "\t0.084               \t$317,999.91\n",
      "\t-0.1614               \t$276,662.39\n",
      "\t0.1318               \t$323,132.03\n",
      "\t0.002               \t$333,783.80\n"
     ]
    }
   ],
   "source": [
    "# Generate one possible future value based on market history\n",
    "# We use 9% expected return with 18% volatility\n",
    "\n",
    "pv = 10000\n",
    "expected_return =  0.09\n",
    "volatility = 0.18\n",
    "time_horizon = 30\n",
    "annual_addition = 10000\n",
    "\n",
    "print(\"\\tReturn\", \"\\t\\tEnding Value\".rjust(18))\n",
    "for year in range(time_horizon):\n",
    "    market_return = np.random.normal(expected_return, volatility)\n",
    "    fv = pv * (1 + market_return) + annual_addition\n",
    "    print(\"\\t{}\".ljust(10).format(round(market_return,4)), \"\\t{}\".rjust(10).format(locale.currency(fv, grouping=True)))\n",
    "    pv = fv"
   ]
  },
  {
   "cell_type": "code",
   "execution_count": 56,
   "id": "6e280868-3e03-41e3-8db3-9d3518a94f88",
   "metadata": {},
   "outputs": [],
   "source": [
    "# 4. Simulate portfolio ending market values \n",
    "\n",
    "sim = DataFrame()\n",
    "iterations = 100\n",
    "\n",
    "\n",
    "\n",
    "for x in range(iterations):\n",
    "    expected_return = .09\n",
    "    volatility = .18\n",
    "    time_horizon = 30\n",
    "    pv = 10000\n",
    "    annual_investment = 10000\n",
    "    stream = []\n",
    "    for i in range(time_horizon):\n",
    "        end = round(pv * (1 + np.random.normal(expected_return,volatility)) + annual_investment,2)\n",
    "        \n",
    "        stream.append(end)\n",
    "\n",
    "        pv = end\n",
    "\n",
    "    \n",
    "    sim[x] = stream"
   ]
  },
  {
   "cell_type": "code",
   "execution_count": 46,
   "id": "7cd60234-892b-4fba-95c0-a2f44d179eca",
   "metadata": {},
   "outputs": [
    {
     "data": {
      "text/html": [
       "<div>\n",
       "<style scoped>\n",
       "    .dataframe tbody tr th:only-of-type {\n",
       "        vertical-align: middle;\n",
       "    }\n",
       "\n",
       "    .dataframe tbody tr th {\n",
       "        vertical-align: top;\n",
       "    }\n",
       "\n",
       "    .dataframe thead th {\n",
       "        text-align: right;\n",
       "    }\n",
       "</style>\n",
       "<table border=\"1\" class=\"dataframe\">\n",
       "  <thead>\n",
       "    <tr style=\"text-align: right;\">\n",
       "      <th></th>\n",
       "      <th>0</th>\n",
       "      <th>1</th>\n",
       "      <th>2</th>\n",
       "      <th>3</th>\n",
       "      <th>4</th>\n",
       "    </tr>\n",
       "  </thead>\n",
       "  <tbody>\n",
       "    <tr>\n",
       "      <th>0</th>\n",
       "      <td>17165.25</td>\n",
       "      <td>19987.10</td>\n",
       "      <td>20623.19</td>\n",
       "      <td>19854.84</td>\n",
       "      <td>20966.31</td>\n",
       "    </tr>\n",
       "    <tr>\n",
       "      <th>1</th>\n",
       "      <td>25232.58</td>\n",
       "      <td>29879.84</td>\n",
       "      <td>30320.04</td>\n",
       "      <td>37726.89</td>\n",
       "      <td>31082.41</td>\n",
       "    </tr>\n",
       "    <tr>\n",
       "      <th>2</th>\n",
       "      <td>38228.41</td>\n",
       "      <td>36903.03</td>\n",
       "      <td>47261.79</td>\n",
       "      <td>55276.39</td>\n",
       "      <td>42196.70</td>\n",
       "    </tr>\n",
       "    <tr>\n",
       "      <th>3</th>\n",
       "      <td>50807.71</td>\n",
       "      <td>50474.68</td>\n",
       "      <td>57344.77</td>\n",
       "      <td>65174.57</td>\n",
       "      <td>51965.85</td>\n",
       "    </tr>\n",
       "    <tr>\n",
       "      <th>4</th>\n",
       "      <td>54680.58</td>\n",
       "      <td>56952.09</td>\n",
       "      <td>71071.71</td>\n",
       "      <td>104222.56</td>\n",
       "      <td>66627.63</td>\n",
       "    </tr>\n",
       "    <tr>\n",
       "      <th>5</th>\n",
       "      <td>56328.24</td>\n",
       "      <td>84112.80</td>\n",
       "      <td>98313.44</td>\n",
       "      <td>112356.25</td>\n",
       "      <td>75924.09</td>\n",
       "    </tr>\n",
       "    <tr>\n",
       "      <th>6</th>\n",
       "      <td>78503.86</td>\n",
       "      <td>84623.72</td>\n",
       "      <td>127022.99</td>\n",
       "      <td>147230.97</td>\n",
       "      <td>83732.01</td>\n",
       "    </tr>\n",
       "    <tr>\n",
       "      <th>7</th>\n",
       "      <td>94165.54</td>\n",
       "      <td>78937.11</td>\n",
       "      <td>146666.56</td>\n",
       "      <td>195459.23</td>\n",
       "      <td>127086.41</td>\n",
       "    </tr>\n",
       "    <tr>\n",
       "      <th>8</th>\n",
       "      <td>109386.47</td>\n",
       "      <td>101734.84</td>\n",
       "      <td>175852.02</td>\n",
       "      <td>229063.13</td>\n",
       "      <td>157289.23</td>\n",
       "    </tr>\n",
       "    <tr>\n",
       "      <th>9</th>\n",
       "      <td>141145.02</td>\n",
       "      <td>139340.25</td>\n",
       "      <td>207979.07</td>\n",
       "      <td>332572.58</td>\n",
       "      <td>203938.51</td>\n",
       "    </tr>\n",
       "    <tr>\n",
       "      <th>10</th>\n",
       "      <td>169013.75</td>\n",
       "      <td>148761.64</td>\n",
       "      <td>300652.64</td>\n",
       "      <td>349009.75</td>\n",
       "      <td>194911.93</td>\n",
       "    </tr>\n",
       "    <tr>\n",
       "      <th>11</th>\n",
       "      <td>204816.30</td>\n",
       "      <td>196169.20</td>\n",
       "      <td>380527.48</td>\n",
       "      <td>488921.39</td>\n",
       "      <td>228148.72</td>\n",
       "    </tr>\n",
       "    <tr>\n",
       "      <th>12</th>\n",
       "      <td>224411.94</td>\n",
       "      <td>176718.54</td>\n",
       "      <td>432856.97</td>\n",
       "      <td>370708.13</td>\n",
       "      <td>347641.11</td>\n",
       "    </tr>\n",
       "    <tr>\n",
       "      <th>13</th>\n",
       "      <td>214508.03</td>\n",
       "      <td>277094.94</td>\n",
       "      <td>502877.45</td>\n",
       "      <td>458651.26</td>\n",
       "      <td>385422.10</td>\n",
       "    </tr>\n",
       "    <tr>\n",
       "      <th>14</th>\n",
       "      <td>245214.32</td>\n",
       "      <td>282856.89</td>\n",
       "      <td>503925.63</td>\n",
       "      <td>551853.74</td>\n",
       "      <td>443342.64</td>\n",
       "    </tr>\n",
       "    <tr>\n",
       "      <th>15</th>\n",
       "      <td>269824.14</td>\n",
       "      <td>312976.85</td>\n",
       "      <td>348765.81</td>\n",
       "      <td>594866.52</td>\n",
       "      <td>542450.59</td>\n",
       "    </tr>\n",
       "    <tr>\n",
       "      <th>16</th>\n",
       "      <td>258618.92</td>\n",
       "      <td>336256.84</td>\n",
       "      <td>445972.37</td>\n",
       "      <td>616508.03</td>\n",
       "      <td>643096.48</td>\n",
       "    </tr>\n",
       "    <tr>\n",
       "      <th>17</th>\n",
       "      <td>394504.68</td>\n",
       "      <td>338805.56</td>\n",
       "      <td>403939.74</td>\n",
       "      <td>677148.45</td>\n",
       "      <td>761699.41</td>\n",
       "    </tr>\n",
       "    <tr>\n",
       "      <th>18</th>\n",
       "      <td>349756.74</td>\n",
       "      <td>448064.82</td>\n",
       "      <td>433039.51</td>\n",
       "      <td>744139.22</td>\n",
       "      <td>935315.59</td>\n",
       "    </tr>\n",
       "    <tr>\n",
       "      <th>19</th>\n",
       "      <td>429362.93</td>\n",
       "      <td>421305.98</td>\n",
       "      <td>344188.01</td>\n",
       "      <td>1131423.68</td>\n",
       "      <td>995619.86</td>\n",
       "    </tr>\n",
       "    <tr>\n",
       "      <th>20</th>\n",
       "      <td>384344.28</td>\n",
       "      <td>436255.06</td>\n",
       "      <td>400156.45</td>\n",
       "      <td>1219293.40</td>\n",
       "      <td>990716.74</td>\n",
       "    </tr>\n",
       "    <tr>\n",
       "      <th>21</th>\n",
       "      <td>401681.54</td>\n",
       "      <td>606907.44</td>\n",
       "      <td>428269.97</td>\n",
       "      <td>1398509.80</td>\n",
       "      <td>909096.75</td>\n",
       "    </tr>\n",
       "    <tr>\n",
       "      <th>22</th>\n",
       "      <td>490168.17</td>\n",
       "      <td>643639.35</td>\n",
       "      <td>551049.73</td>\n",
       "      <td>1640034.11</td>\n",
       "      <td>890358.04</td>\n",
       "    </tr>\n",
       "    <tr>\n",
       "      <th>23</th>\n",
       "      <td>516520.55</td>\n",
       "      <td>809651.39</td>\n",
       "      <td>784824.30</td>\n",
       "      <td>1336619.04</td>\n",
       "      <td>936333.92</td>\n",
       "    </tr>\n",
       "    <tr>\n",
       "      <th>24</th>\n",
       "      <td>533333.99</td>\n",
       "      <td>678991.95</td>\n",
       "      <td>943372.59</td>\n",
       "      <td>1616547.31</td>\n",
       "      <td>938781.88</td>\n",
       "    </tr>\n",
       "    <tr>\n",
       "      <th>25</th>\n",
       "      <td>641804.91</td>\n",
       "      <td>678921.99</td>\n",
       "      <td>901095.33</td>\n",
       "      <td>1573797.95</td>\n",
       "      <td>1182672.74</td>\n",
       "    </tr>\n",
       "    <tr>\n",
       "      <th>26</th>\n",
       "      <td>770582.32</td>\n",
       "      <td>797608.25</td>\n",
       "      <td>798096.28</td>\n",
       "      <td>1509280.76</td>\n",
       "      <td>1535065.08</td>\n",
       "    </tr>\n",
       "    <tr>\n",
       "      <th>27</th>\n",
       "      <td>715604.93</td>\n",
       "      <td>619771.30</td>\n",
       "      <td>719568.46</td>\n",
       "      <td>1429784.51</td>\n",
       "      <td>1758606.96</td>\n",
       "    </tr>\n",
       "    <tr>\n",
       "      <th>28</th>\n",
       "      <td>669070.11</td>\n",
       "      <td>645462.13</td>\n",
       "      <td>871096.52</td>\n",
       "      <td>1650569.77</td>\n",
       "      <td>2477161.19</td>\n",
       "    </tr>\n",
       "    <tr>\n",
       "      <th>29</th>\n",
       "      <td>798340.90</td>\n",
       "      <td>819300.21</td>\n",
       "      <td>1105215.18</td>\n",
       "      <td>1971919.40</td>\n",
       "      <td>2867855.36</td>\n",
       "    </tr>\n",
       "  </tbody>\n",
       "</table>\n",
       "</div>"
      ],
      "text/plain": [
       "            0          1           2           3           4\n",
       "0    17165.25   19987.10    20623.19    19854.84    20966.31\n",
       "1    25232.58   29879.84    30320.04    37726.89    31082.41\n",
       "2    38228.41   36903.03    47261.79    55276.39    42196.70\n",
       "3    50807.71   50474.68    57344.77    65174.57    51965.85\n",
       "4    54680.58   56952.09    71071.71   104222.56    66627.63\n",
       "5    56328.24   84112.80    98313.44   112356.25    75924.09\n",
       "6    78503.86   84623.72   127022.99   147230.97    83732.01\n",
       "7    94165.54   78937.11   146666.56   195459.23   127086.41\n",
       "8   109386.47  101734.84   175852.02   229063.13   157289.23\n",
       "9   141145.02  139340.25   207979.07   332572.58   203938.51\n",
       "10  169013.75  148761.64   300652.64   349009.75   194911.93\n",
       "11  204816.30  196169.20   380527.48   488921.39   228148.72\n",
       "12  224411.94  176718.54   432856.97   370708.13   347641.11\n",
       "13  214508.03  277094.94   502877.45   458651.26   385422.10\n",
       "14  245214.32  282856.89   503925.63   551853.74   443342.64\n",
       "15  269824.14  312976.85   348765.81   594866.52   542450.59\n",
       "16  258618.92  336256.84   445972.37   616508.03   643096.48\n",
       "17  394504.68  338805.56   403939.74   677148.45   761699.41\n",
       "18  349756.74  448064.82   433039.51   744139.22   935315.59\n",
       "19  429362.93  421305.98   344188.01  1131423.68   995619.86\n",
       "20  384344.28  436255.06   400156.45  1219293.40   990716.74\n",
       "21  401681.54  606907.44   428269.97  1398509.80   909096.75\n",
       "22  490168.17  643639.35   551049.73  1640034.11   890358.04\n",
       "23  516520.55  809651.39   784824.30  1336619.04   936333.92\n",
       "24  533333.99  678991.95   943372.59  1616547.31   938781.88\n",
       "25  641804.91  678921.99   901095.33  1573797.95  1182672.74\n",
       "26  770582.32  797608.25   798096.28  1509280.76  1535065.08\n",
       "27  715604.93  619771.30   719568.46  1429784.51  1758606.96\n",
       "28  669070.11  645462.13   871096.52  1650569.77  2477161.19\n",
       "29  798340.90  819300.21  1105215.18  1971919.40  2867855.36"
      ]
     },
     "execution_count": 46,
     "metadata": {},
     "output_type": "execute_result"
    }
   ],
   "source": [
    "# 5. Sample first five streams of annual ending values\n",
    "first_five = list(range(5))\n",
    "sim[first_five]"
   ]
  },
  {
   "cell_type": "code",
   "execution_count": 47,
   "id": "ac167693-1503-4130-a869-28ccdcb2da63",
   "metadata": {},
   "outputs": [
    {
     "data": {
      "text/plain": [
       "[<matplotlib.lines.Line2D at 0x1151d5e50>,\n",
       " <matplotlib.lines.Line2D at 0x1151d5f90>,\n",
       " <matplotlib.lines.Line2D at 0x1151d60d0>,\n",
       " <matplotlib.lines.Line2D at 0x1151d6210>,\n",
       " <matplotlib.lines.Line2D at 0x1151d6350>]"
      ]
     },
     "execution_count": 47,
     "metadata": {},
     "output_type": "execute_result"
    },
    {
     "data": {
      "image/png": "[encoded data removed]",
      "text/plain": [
       "<Figure size 640x480 with 1 Axes>"
      ]
     },
     "metadata": {},
     "output_type": "display_data"
    }
   ],
   "source": [
    "# 6. Plot first five simulated portfolios\n",
    "plots.plot(sim[first_five])"
   ]
  },
  {
   "cell_type": "code",
   "execution_count": 48,
   "id": "78c5b1bc-246c-42c2-b26f-43887b25b325",
   "metadata": {},
   "outputs": [
    {
     "name": "stdout",
     "output_type": "stream",
     "text": [
      "Count: 100\n",
      "Mean:  $1,470,811.87\n",
      "SD:  $1,648,234.02\n",
      "Max:  $15,738,468.99\n",
      "Min:  $145,378.30\n"
     ]
    }
   ],
   "source": [
    "# 7. Generate summary statistics with numpy functions\n",
    "\n",
    "print(\"Count:\", len(sim.loc[29]))\n",
    "print(\"Mean: \", locale.currency(np.mean(sim.loc[29]),grouping=True))\n",
    "print(\"SD: \",locale.currency(np.std(sim.loc[29]),grouping=True))\n",
    "print(\"Max: \",locale.currency(np.max(sim.loc[29]), grouping=True))\n",
    "print(\"Min: \", locale.currency(np.min(sim.loc[29]), grouping=True))"
   ]
  },
  {
   "cell_type": "code",
   "execution_count": 49,
   "id": "b3c034d9-d446-419e-80d0-7facd2fba1b0",
   "metadata": {},
   "outputs": [
    {
     "data": {
      "text/plain": [
       "count    1.000000e+02\n",
       "mean     1.470812e+06\n",
       "std      1.656538e+06\n",
       "min      1.453783e+05\n",
       "25%      7.493904e+05\n",
       "50%      1.133399e+06\n",
       "75%      1.789788e+06\n",
       "max      1.573847e+07\n",
       "Name: 29, dtype: float64"
      ]
     },
     "execution_count": 49,
     "metadata": {},
     "output_type": "execute_result"
    }
   ],
   "source": [
    "# 8. Generating more comprehensive summary statistics with pandas describe function\n",
    "ending_values = sim.loc[29]\n",
    "ending_values.describe()"
   ]
  },
  {
   "cell_type": "code",
   "execution_count": 50,
   "id": "da9be85f-8c6c-436b-a091-fb940a3cdc19",
   "metadata": {},
   "outputs": [
    {
     "data": {
      "text/plain": [
       "(array([ 4.,  6.,  8., 11.,  7., 10.,  9.,  8.,  5.,  5.,  3.,  5.,  4.,\n",
       "         1.,  4.,  2.,  1.,  1.,  2.,  0.,  1.,  0.,  0.,  1.,  0.,  0.,\n",
       "         1.,  0.,  0.,  0.,  0.,  0.,  0.,  0.,  0.,  0.,  0.,  0.,  0.,\n",
       "         0.,  0.,  0.,  0.,  0.,  0.,  0.,  0.,  0.,  0.,  0.,  0.,  0.,\n",
       "         0.,  0.,  0.,  0.,  0.,  0.,  0.,  0.,  0.,  0.,  0.,  0.,  0.,\n",
       "         0.,  0.,  0.,  0.,  0.,  0.,  0.,  0.,  0.,  0.,  0.,  0.,  0.,\n",
       "         0.,  0.,  0.,  0.,  0.,  0.,  0.,  0.,  0.,  0.,  0.,  0.,  0.,\n",
       "         0.,  0.,  0.,  0.,  0.,  0.,  0.,  0.,  1.]),\n",
       " array([  145378.3   ,   301309.2069,   457240.1138,   613171.0207,\n",
       "          769101.9276,   925032.8345,  1080963.7414,  1236894.6483,\n",
       "         1392825.5552,  1548756.4621,  1704687.369 ,  1860618.2759,\n",
       "         2016549.1828,  2172480.0897,  2328410.9966,  2484341.9035,\n",
       "         2640272.8104,  2796203.7173,  2952134.6242,  3108065.5311,\n",
       "         3263996.438 ,  3419927.3449,  3575858.2518,  3731789.1587,\n",
       "         3887720.0656,  4043650.9725,  4199581.8794,  4355512.7863,\n",
       "         4511443.6932,  4667374.6001,  4823305.507 ,  4979236.4139,\n",
       "         5135167.3208,  5291098.2277,  5447029.1346,  5602960.0415,\n",
       "         5758890.9484,  5914821.8553,  6070752.7622,  6226683.6691,\n",
       "         6382614.576 ,  6538545.4829,  6694476.3898,  6850407.2967,\n",
       "         7006338.2036,  7162269.1105,  7318200.0174,  7474130.9243,\n",
       "         7630061.8312,  7785992.7381,  7941923.645 ,  8097854.5519,\n",
       "         8253785.4588,  8409716.3657,  8565647.2726,  8721578.1795,\n",
       "         8877509.0864,  9033439.9933,  9189370.9002,  9345301.8071,\n",
       "         9501232.714 ,  9657163.6209,  9813094.5278,  9969025.4347,\n",
       "        10124956.3416, 10280887.2485, 10436818.1554, 10592749.0623,\n",
       "        10748679.9692, 10904610.8761, 11060541.783 , 11216472.6899,\n",
       "        11372403.5968, 11528334.5037, 11684265.4106, 11840196.3175,\n",
       "        11996127.2244, 12152058.1313, 12307989.0382, 12463919.9451,\n",
       "        12619850.852 , 12775781.7589, 12931712.6658, 13087643.5727,\n",
       "        13243574.4796, 13399505.3865, 13555436.2934, 13711367.2003,\n",
       "        13867298.1072, 14023229.0141, 14179159.921 , 14335090.8279,\n",
       "        14491021.7348, 14646952.6417, 14802883.5486, 14958814.4555,\n",
       "        15114745.3624, 15270676.2693, 15426607.1762, 15582538.0831,\n",
       "        15738468.99  ]),\n",
       " <BarContainer object of 100 artists>)"
      ]
     },
     "execution_count": 50,
     "metadata": {},
     "output_type": "execute_result"
    },
    {
     "data": {
      "image/png": "[encoded data removed]",
      "text/plain": [
       "<Figure size 640x480 with 1 Axes>"
      ]
     },
     "metadata": {},
     "output_type": "display_data"
    }
   ],
   "source": [
    "# 9. Get a visualization of the distribution of ending values\n",
    "\n",
    "plots.hist(ending_values, bins=100)"
   ]
  },
  {
   "cell_type": "code",
   "execution_count": 51,
   "id": "0be2fccb-3528-490a-8ec4-fd561677da51",
   "metadata": {},
   "outputs": [
    {
     "data": {
      "text/plain": [
       "0.4"
      ]
     },
     "execution_count": 51,
     "metadata": {},
     "output_type": "execute_result"
    }
   ],
   "source": [
    "# 10. Calculate probability of seeing a specific ending_value or less, \n",
    "# for example get close to the 75%ile, or $1,000,000\n",
    "\n",
    "len(ending_values[ending_values<1000000]) / len(ending_values)"
   ]
  },
  {
   "cell_type": "code",
   "execution_count": 52,
   "id": "42aae41f-679e-4b7a-822a-0c05fc3c3fc9",
   "metadata": {},
   "outputs": [
    {
     "data": {
      "text/plain": [
       "0.16"
      ]
     },
     "execution_count": 52,
     "metadata": {},
     "output_type": "execute_result"
    }
   ],
   "source": [
    "# 11. You can't really get a point estimate, but you can get a range ending values\n",
    "\n",
    "len(ending_values[(ending_values> 800000) & (ending_values< 1100000)]) /len(ending_values)"
   ]
  },
  {
   "cell_type": "code",
   "execution_count": 53,
   "id": "cc08d341-ec1d-494b-afa7-a2cde96706ef",
   "metadata": {},
   "outputs": [
    {
     "name": "stdout",
     "output_type": "stream",
     "text": [
      "       5%-ile:  $360,883.06\n",
      "      10%-ile:  $469,039.99\n",
      "      15%-ile:  $525,891.70\n",
      "      25%-ile:  $749,390.37\n",
      "      75%-ile:  $1,789,787.99\n",
      "      85%-ile:  $2,186,291.08\n",
      "      90%-ile:  $2,487,124.42\n",
      "      95%-ile:  $2,958,102.18\n"
     ]
    }
   ],
   "source": [
    "# 12. You can get a more comprehensive table of percentiles easily using numpy's percentile function\n",
    "\n",
    "p_tiles = np.percentile(ending_values,[5,10,15,25,75,85,90, 95])\n",
    "for p in range(len(p_tiles)):\n",
    "    l = [5,10,15,25,75,85,90,95]\n",
    "    print( \"{}%-ile: \".format(l[p]).rjust(15),\"{}\".format(locale.currency(p_tiles[p], grouping=True)))"
   ]
  }
 ],
 "metadata": {
  "kernelspec": {
   "display_name": "Python 3 (ipykernel)",
   "language": "python",
   "name": "python3"
  },
  "language_info": {
   "codemirror_mode": {
    "name": "ipython",
    "version": 3
   },
   "file_extension": ".py",
   "mimetype": "text/x-python",
   "name": "python",
   "nbconvert_exporter": "python",
   "pygments_lexer": "ipython3",
   "version": "3.13.0"
  }
 },
 "nbformat": 4,
 "nbformat_minor": 5
}
