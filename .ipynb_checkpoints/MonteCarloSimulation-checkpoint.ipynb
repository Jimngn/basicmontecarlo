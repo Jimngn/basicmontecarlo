{
 "cells": [
  {
   "cell_type": "markdown",
   "id": "95605c86-226b-41b7-9610-e83fbfeddbc1",
   "metadata": {},
   "source": [
    "# Monto Carlo Simulation of SP500"
   ]
  },
  {
   "cell_type": "markdown",
   "id": "bacb95cc-71c2-4b25-982d-902713bd08d2",
   "metadata": {},
   "source": [
    "**Question: Start with 10k, invest 10k more annually, what is the probability that you will have at least 1mil after 30 years of investing inthe S&P 500 ETF**"
   ]
  },
  {
   "cell_type": "code",
   "execution_count": 81,
   "id": "75b87ed2-a9bc-40f0-a118-e6cddfbb5bbe",
   "metadata": {},
   "outputs": [
    {
     "data": {
      "text/plain": [
       "'en_US.UTF-8'"
      ]
     },
     "execution_count": 81,
     "metadata": {},
     "output_type": "execute_result"
    }
   ],
   "source": [
    "import numpy as np\n",
    "from pandas import Series, DataFrame\n",
    "%matplotlib inline\n",
    "import matplotlib.pyplot as plots\n",
    "import pandas as pd\n",
    "#for currency formatting\n",
    "import locale\n",
    "locale.setlocale(locale.LC_ALL, '')"
   ]
  },
  {
   "cell_type": "code",
   "execution_count": 82,
   "id": "a6d922ba-2914-473e-b8e4-c36bf3976e62",
   "metadata": {},
   "outputs": [
    {
     "name": "stdout",
     "output_type": "stream",
     "text": [
      "0: $20,700.00\n",
      "1: $32,149.00\n",
      "2: $44,399.43\n",
      "3: $57,507.39\n",
      "4: $71,532.91\n",
      "5: $86,540.21\n",
      "6: $102,598.03\n",
      "7: $119,779.89\n",
      "8: $138,164.48\n",
      "9: $157,835.99\n",
      "10: $178,884.51\n",
      "11: $201,406.43\n",
      "12: $225,504.88\n",
      "13: $251,290.22\n",
      "14: $278,880.54\n",
      "15: $308,402.17\n",
      "16: $339,990.33\n",
      "17: $373,789.65\n",
      "18: $409,954.92\n",
      "19: $448,651.77\n",
      "20: $490,057.39\n",
      "21: $534,361.41\n",
      "22: $581,766.71\n",
      "23: $632,490.38\n",
      "24: $686,764.70\n",
      "25: $744,838.23\n",
      "26: $806,976.91\n",
      "27: $873,465.29\n",
      "28: $944,607.86\n",
      "29: $1,020,730.41\n"
     ]
    }
   ],
   "source": [
    "# trad savings calculator appraoach\n",
    "\n",
    "pv = 10000\n",
    "time_horizon = 30\n",
    "i = 0.07\n",
    "additions = 10000\n",
    "\n",
    "for year in range(time_horizon):\n",
    "    ending = pv * (1+i) + additions\n",
    "    print(str(year) + \": \" + locale.currency(ending, grouping=True))\n",
    "    pv = ending\n"
   ]
  },
  {
   "cell_type": "code",
   "execution_count": 83,
   "id": "2edac411-4f3f-4113-b923-4bd3aaad377c",
   "metadata": {},
   "outputs": [
    {
     "name": "stdout",
     "output_type": "stream",
     "text": [
      "\tReturn     \t\tEnding Value\n",
      "\t0.0191               \t$20,190.91\n",
      "\t0.2224               \t$34,680.67\n",
      "\t0.0244               \t$45,525.36\n",
      "\t0.0942               \t$59,815.25\n",
      "\t0.1934               \t$81,384.11\n",
      "\t0.2075               \t$108,267.78\n",
      "\t0.3411               \t$155,194.29\n",
      "\t0.0462               \t$172,370.42\n",
      "\t-0.0014               \t$182,131.81\n",
      "\t0.0829               \t$207,223.09\n",
      "\t-0.0288               \t$211,245.54\n",
      "\t0.2462               \t$273,264.52\n",
      "\t0.1196               \t$315,957.91\n",
      "\t0.3603               \t$439,796.43\n",
      "\t0.4114               \t$630,718.47\n",
      "\t-0.037               \t$617,401.42\n",
      "\t0.2523               \t$783,145.60\n",
      "\t-0.2533               \t$594,774.99\n",
      "\t-0.052               \t$573,818.16\n",
      "\t-0.0929               \t$530,489.89\n",
      "\t0.0817               \t$583,826.79\n",
      "\t-0.0597               \t$558,997.69\n",
      "\t0.0493               \t$596,580.48\n",
      "\t-0.0446               \t$579,953.90\n",
      "\t0.0274               \t$605,830.72\n",
      "\t0.1433               \t$702,629.08\n",
      "\t0.0285               \t$732,670.09\n",
      "\t-0.2113               \t$587,838.50\n",
      "\t0.089               \t$650,135.69\n",
      "\t0.5271               \t$1,002,792.86\n"
     ]
    }
   ],
   "source": [
    "# Generate one possible future value based on market history\n",
    "# We use 9% expected return with 18% volatility\n",
    "\n",
    "pv = 10000\n",
    "expected_return =  0.09\n",
    "volatility = 0.18\n",
    "time_horizon = 30\n",
    "annual_addition = 10000\n",
    "\n",
    "print(\"\\tReturn\", \"\\t\\tEnding Value\".rjust(18))\n",
    "for year in range(time_horizon):\n",
    "    market_return = np.random.normal(expected_return, volatility)\n",
    "    fv = pv * (1 + market_return) + annual_addition\n",
    "    print(\"\\t{}\".ljust(10).format(round(market_return,4)), \"\\t{}\".rjust(10).format(locale.currency(fv, grouping=True)))\n",
    "    pv = fv"
   ]
  },
  {
   "cell_type": "code",
   "execution_count": 87,
   "id": "6e280868-3e03-41e3-8db3-9d3518a94f88",
   "metadata": {},
   "outputs": [],
   "source": [
    "iterations = 101\n",
    "all_streams = []\n",
    "\n",
    "for x in range(iterations):\n",
    "    expected_return = 0.09\n",
    "    volatility = 0.18\n",
    "    time_horizon = 30\n",
    "    pv = 10000\n",
    "    annual_investment = 10000\n",
    "    stream = []\n",
    "    \n",
    "    for i in range(time_horizon):\n",
    "        end = round(pv * (1 + np.random.normal(expected_return, volatility)) + annual_investment, 2)\n",
    "        stream.append(end)\n",
    "        pv = end\n",
    "    \n",
    "    all_streams.append(stream)\n",
    "\n",
    "# Concatenate all streams into a DataFrame\n",
    "sim = pd.concat([pd.Series(stream) for stream in all_streams], axis=1)\n"
   ]
  },
  {
   "cell_type": "code",
   "execution_count": 63,
   "id": "7cd60234-892b-4fba-95c0-a2f44d179eca",
   "metadata": {},
   "outputs": [
    {
     "data": {
      "text/html": [
       "<div>\n",
       "<style scoped>\n",
       "    .dataframe tbody tr th:only-of-type {\n",
       "        vertical-align: middle;\n",
       "    }\n",
       "\n",
       "    .dataframe tbody tr th {\n",
       "        vertical-align: top;\n",
       "    }\n",
       "\n",
       "    .dataframe thead th {\n",
       "        text-align: right;\n",
       "    }\n",
       "</style>\n",
       "<table border=\"1\" class=\"dataframe\">\n",
       "  <thead>\n",
       "    <tr style=\"text-align: right;\">\n",
       "      <th></th>\n",
       "      <th>0</th>\n",
       "      <th>1</th>\n",
       "      <th>2</th>\n",
       "      <th>3</th>\n",
       "      <th>4</th>\n",
       "    </tr>\n",
       "  </thead>\n",
       "  <tbody>\n",
       "    <tr>\n",
       "      <th>0</th>\n",
       "      <td>22162.52</td>\n",
       "      <td>20235.63</td>\n",
       "      <td>23098.16</td>\n",
       "      <td>19061.89</td>\n",
       "      <td>18481.03</td>\n",
       "    </tr>\n",
       "    <tr>\n",
       "      <th>1</th>\n",
       "      <td>31643.13</td>\n",
       "      <td>38826.82</td>\n",
       "      <td>32064.51</td>\n",
       "      <td>28854.53</td>\n",
       "      <td>27101.70</td>\n",
       "    </tr>\n",
       "    <tr>\n",
       "      <th>2</th>\n",
       "      <td>34812.47</td>\n",
       "      <td>61463.48</td>\n",
       "      <td>48465.40</td>\n",
       "      <td>45433.87</td>\n",
       "      <td>43713.88</td>\n",
       "    </tr>\n",
       "    <tr>\n",
       "      <th>3</th>\n",
       "      <td>47414.56</td>\n",
       "      <td>84117.75</td>\n",
       "      <td>68643.47</td>\n",
       "      <td>52463.00</td>\n",
       "      <td>64042.29</td>\n",
       "    </tr>\n",
       "    <tr>\n",
       "      <th>4</th>\n",
       "      <td>66202.83</td>\n",
       "      <td>122709.59</td>\n",
       "      <td>69562.39</td>\n",
       "      <td>74595.36</td>\n",
       "      <td>70276.66</td>\n",
       "    </tr>\n",
       "    <tr>\n",
       "      <th>5</th>\n",
       "      <td>73880.31</td>\n",
       "      <td>141072.41</td>\n",
       "      <td>105291.98</td>\n",
       "      <td>76761.55</td>\n",
       "      <td>76028.67</td>\n",
       "    </tr>\n",
       "    <tr>\n",
       "      <th>6</th>\n",
       "      <td>54279.75</td>\n",
       "      <td>179451.03</td>\n",
       "      <td>154611.34</td>\n",
       "      <td>88768.77</td>\n",
       "      <td>97090.36</td>\n",
       "    </tr>\n",
       "    <tr>\n",
       "      <th>7</th>\n",
       "      <td>51509.28</td>\n",
       "      <td>189925.34</td>\n",
       "      <td>253627.42</td>\n",
       "      <td>92456.04</td>\n",
       "      <td>120273.77</td>\n",
       "    </tr>\n",
       "    <tr>\n",
       "      <th>8</th>\n",
       "      <td>66989.50</td>\n",
       "      <td>224522.40</td>\n",
       "      <td>205178.67</td>\n",
       "      <td>117232.62</td>\n",
       "      <td>106838.91</td>\n",
       "    </tr>\n",
       "    <tr>\n",
       "      <th>9</th>\n",
       "      <td>90860.24</td>\n",
       "      <td>220608.34</td>\n",
       "      <td>247252.92</td>\n",
       "      <td>114457.05</td>\n",
       "      <td>109995.71</td>\n",
       "    </tr>\n",
       "    <tr>\n",
       "      <th>10</th>\n",
       "      <td>125534.01</td>\n",
       "      <td>283554.13</td>\n",
       "      <td>291867.77</td>\n",
       "      <td>105364.43</td>\n",
       "      <td>159691.65</td>\n",
       "    </tr>\n",
       "    <tr>\n",
       "      <th>11</th>\n",
       "      <td>145479.41</td>\n",
       "      <td>344048.81</td>\n",
       "      <td>351072.41</td>\n",
       "      <td>117886.41</td>\n",
       "      <td>137850.12</td>\n",
       "    </tr>\n",
       "    <tr>\n",
       "      <th>12</th>\n",
       "      <td>189862.15</td>\n",
       "      <td>373406.22</td>\n",
       "      <td>341772.89</td>\n",
       "      <td>135690.25</td>\n",
       "      <td>194166.50</td>\n",
       "    </tr>\n",
       "    <tr>\n",
       "      <th>13</th>\n",
       "      <td>294544.50</td>\n",
       "      <td>399051.40</td>\n",
       "      <td>345420.35</td>\n",
       "      <td>154483.40</td>\n",
       "      <td>210064.05</td>\n",
       "    </tr>\n",
       "    <tr>\n",
       "      <th>14</th>\n",
       "      <td>293491.28</td>\n",
       "      <td>401854.90</td>\n",
       "      <td>395959.43</td>\n",
       "      <td>169644.91</td>\n",
       "      <td>210746.67</td>\n",
       "    </tr>\n",
       "    <tr>\n",
       "      <th>15</th>\n",
       "      <td>356267.50</td>\n",
       "      <td>485548.89</td>\n",
       "      <td>463401.72</td>\n",
       "      <td>168005.94</td>\n",
       "      <td>274220.82</td>\n",
       "    </tr>\n",
       "    <tr>\n",
       "      <th>16</th>\n",
       "      <td>327119.86</td>\n",
       "      <td>530126.96</td>\n",
       "      <td>503997.95</td>\n",
       "      <td>201391.19</td>\n",
       "      <td>318442.09</td>\n",
       "    </tr>\n",
       "    <tr>\n",
       "      <th>17</th>\n",
       "      <td>358792.86</td>\n",
       "      <td>736740.63</td>\n",
       "      <td>610267.70</td>\n",
       "      <td>238709.21</td>\n",
       "      <td>382710.68</td>\n",
       "    </tr>\n",
       "    <tr>\n",
       "      <th>18</th>\n",
       "      <td>252598.14</td>\n",
       "      <td>751058.08</td>\n",
       "      <td>539986.70</td>\n",
       "      <td>247568.76</td>\n",
       "      <td>320900.01</td>\n",
       "    </tr>\n",
       "    <tr>\n",
       "      <th>19</th>\n",
       "      <td>296282.78</td>\n",
       "      <td>968493.85</td>\n",
       "      <td>477488.13</td>\n",
       "      <td>208081.64</td>\n",
       "      <td>421847.71</td>\n",
       "    </tr>\n",
       "    <tr>\n",
       "      <th>20</th>\n",
       "      <td>309586.89</td>\n",
       "      <td>987493.39</td>\n",
       "      <td>659513.28</td>\n",
       "      <td>192512.36</td>\n",
       "      <td>480468.69</td>\n",
       "    </tr>\n",
       "    <tr>\n",
       "      <th>21</th>\n",
       "      <td>425386.58</td>\n",
       "      <td>834242.10</td>\n",
       "      <td>729444.99</td>\n",
       "      <td>171154.43</td>\n",
       "      <td>534642.99</td>\n",
       "    </tr>\n",
       "    <tr>\n",
       "      <th>22</th>\n",
       "      <td>500207.13</td>\n",
       "      <td>1152148.40</td>\n",
       "      <td>1064779.13</td>\n",
       "      <td>231367.51</td>\n",
       "      <td>569769.68</td>\n",
       "    </tr>\n",
       "    <tr>\n",
       "      <th>23</th>\n",
       "      <td>516010.92</td>\n",
       "      <td>1166448.83</td>\n",
       "      <td>1295781.19</td>\n",
       "      <td>293300.18</td>\n",
       "      <td>603884.67</td>\n",
       "    </tr>\n",
       "    <tr>\n",
       "      <th>24</th>\n",
       "      <td>595661.81</td>\n",
       "      <td>1374328.07</td>\n",
       "      <td>1234962.17</td>\n",
       "      <td>387441.33</td>\n",
       "      <td>660078.22</td>\n",
       "    </tr>\n",
       "    <tr>\n",
       "      <th>25</th>\n",
       "      <td>771100.11</td>\n",
       "      <td>1131366.69</td>\n",
       "      <td>1413845.85</td>\n",
       "      <td>383405.82</td>\n",
       "      <td>785869.54</td>\n",
       "    </tr>\n",
       "    <tr>\n",
       "      <th>26</th>\n",
       "      <td>890054.33</td>\n",
       "      <td>1324635.02</td>\n",
       "      <td>1509582.19</td>\n",
       "      <td>434007.37</td>\n",
       "      <td>903153.52</td>\n",
       "    </tr>\n",
       "    <tr>\n",
       "      <th>27</th>\n",
       "      <td>950722.86</td>\n",
       "      <td>1940110.56</td>\n",
       "      <td>1073510.37</td>\n",
       "      <td>670285.40</td>\n",
       "      <td>769930.06</td>\n",
       "    </tr>\n",
       "    <tr>\n",
       "      <th>28</th>\n",
       "      <td>1137001.35</td>\n",
       "      <td>2045624.73</td>\n",
       "      <td>1398189.87</td>\n",
       "      <td>664074.50</td>\n",
       "      <td>987765.77</td>\n",
       "    </tr>\n",
       "    <tr>\n",
       "      <th>29</th>\n",
       "      <td>1227870.27</td>\n",
       "      <td>2357458.92</td>\n",
       "      <td>1818603.08</td>\n",
       "      <td>846367.85</td>\n",
       "      <td>1097395.65</td>\n",
       "    </tr>\n",
       "  </tbody>\n",
       "</table>\n",
       "</div>"
      ],
      "text/plain": [
       "             0           1           2          3           4\n",
       "0     22162.52    20235.63    23098.16   19061.89    18481.03\n",
       "1     31643.13    38826.82    32064.51   28854.53    27101.70\n",
       "2     34812.47    61463.48    48465.40   45433.87    43713.88\n",
       "3     47414.56    84117.75    68643.47   52463.00    64042.29\n",
       "4     66202.83   122709.59    69562.39   74595.36    70276.66\n",
       "5     73880.31   141072.41   105291.98   76761.55    76028.67\n",
       "6     54279.75   179451.03   154611.34   88768.77    97090.36\n",
       "7     51509.28   189925.34   253627.42   92456.04   120273.77\n",
       "8     66989.50   224522.40   205178.67  117232.62   106838.91\n",
       "9     90860.24   220608.34   247252.92  114457.05   109995.71\n",
       "10   125534.01   283554.13   291867.77  105364.43   159691.65\n",
       "11   145479.41   344048.81   351072.41  117886.41   137850.12\n",
       "12   189862.15   373406.22   341772.89  135690.25   194166.50\n",
       "13   294544.50   399051.40   345420.35  154483.40   210064.05\n",
       "14   293491.28   401854.90   395959.43  169644.91   210746.67\n",
       "15   356267.50   485548.89   463401.72  168005.94   274220.82\n",
       "16   327119.86   530126.96   503997.95  201391.19   318442.09\n",
       "17   358792.86   736740.63   610267.70  238709.21   382710.68\n",
       "18   252598.14   751058.08   539986.70  247568.76   320900.01\n",
       "19   296282.78   968493.85   477488.13  208081.64   421847.71\n",
       "20   309586.89   987493.39   659513.28  192512.36   480468.69\n",
       "21   425386.58   834242.10   729444.99  171154.43   534642.99\n",
       "22   500207.13  1152148.40  1064779.13  231367.51   569769.68\n",
       "23   516010.92  1166448.83  1295781.19  293300.18   603884.67\n",
       "24   595661.81  1374328.07  1234962.17  387441.33   660078.22\n",
       "25   771100.11  1131366.69  1413845.85  383405.82   785869.54\n",
       "26   890054.33  1324635.02  1509582.19  434007.37   903153.52\n",
       "27   950722.86  1940110.56  1073510.37  670285.40   769930.06\n",
       "28  1137001.35  2045624.73  1398189.87  664074.50   987765.77\n",
       "29  1227870.27  2357458.92  1818603.08  846367.85  1097395.65"
      ]
     },
     "execution_count": 63,
     "metadata": {},
     "output_type": "execute_result"
    }
   ],
   "source": [
    "# 5. Sample first five streams of annual ending values\n",
    "first_five = list(range(5))\n",
    "sim[first_five]"
   ]
  },
  {
   "cell_type": "code",
   "execution_count": 64,
   "id": "ac167693-1503-4130-a869-28ccdcb2da63",
   "metadata": {},
   "outputs": [
    {
     "data": {
      "text/plain": [
       "[<matplotlib.lines.Line2D at 0x11557b9d0>,\n",
       " <matplotlib.lines.Line2D at 0x11557bb10>,\n",
       " <matplotlib.lines.Line2D at 0x11557bc50>,\n",
       " <matplotlib.lines.Line2D at 0x11557bd90>,\n",
       " <matplotlib.lines.Line2D at 0x11557bed0>]"
      ]
     },
     "execution_count": 64,
     "metadata": {},
     "output_type": "execute_result"
    },
    {
     "data": {
      "image/png": "[encoded data removed]",
      "text/plain": [
       "<Figure size 640x480 with 1 Axes>"
      ]
     },
     "metadata": {},
     "output_type": "display_data"
    }
   ],
   "source": [
    "# 6. Plot first five simulated portfolios\n",
    "plots.plot(sim[first_five])"
   ]
  },
  {
   "cell_type": "code",
   "execution_count": 65,
   "id": "78c5b1bc-246c-42c2-b26f-43887b25b325",
   "metadata": {},
   "outputs": [
    {
     "name": "stdout",
     "output_type": "stream",
     "text": [
      "Count: 100\n",
      "Mean:  $1,738,720.45\n",
      "SD:  $1,350,650.51\n",
      "Max:  $6,438,885.35\n",
      "Min:  $258,832.99\n"
     ]
    }
   ],
   "source": [
    "# 7. Generate summary statistics with numpy functions\n",
    "\n",
    "print(\"Count:\", len(sim.loc[29]))\n",
    "print(\"Mean: \", locale.currency(np.mean(sim.loc[29]),grouping=True))\n",
    "print(\"SD: \",locale.currency(np.std(sim.loc[29]),grouping=True))\n",
    "print(\"Max: \",locale.currency(np.max(sim.loc[29]), grouping=True))\n",
    "print(\"Min: \", locale.currency(np.min(sim.loc[29]), grouping=True))"
   ]
  },
  {
   "cell_type": "code",
   "execution_count": 66,
   "id": "b3c034d9-d446-419e-80d0-7facd2fba1b0",
   "metadata": {},
   "outputs": [
    {
     "data": {
      "text/plain": [
       "count    1.000000e+02\n",
       "mean     1.738720e+06\n",
       "std      1.357455e+06\n",
       "min      2.588330e+05\n",
       "25%      8.404242e+05\n",
       "50%      1.257054e+06\n",
       "75%      2.301885e+06\n",
       "max      6.438885e+06\n",
       "Name: 29, dtype: float64"
      ]
     },
     "execution_count": 66,
     "metadata": {},
     "output_type": "execute_result"
    }
   ],
   "source": [
    "# 8. Generating more comprehensive summary statistics with pandas describe function\n",
    "ending_values = sim.loc[29]\n",
    "ending_values.describe()"
   ]
  },
  {
   "cell_type": "code",
   "execution_count": 67,
   "id": "da9be85f-8c6c-436b-a091-fb940a3cdc19",
   "metadata": {},
   "outputs": [
    {
     "data": {
      "text/plain": [
       "(array([3., 4., 1., 2., 2., 2., 6., 1., 3., 2., 4., 4., 1., 8., 5., 2., 4.,\n",
       "        2., 0., 1., 3., 2., 2., 0., 3., 2., 1., 0., 1., 0., 0., 3., 1., 2.,\n",
       "        0., 2., 2., 3., 0., 0., 1., 0., 0., 1., 0., 0., 2., 0., 0., 0., 1.,\n",
       "        0., 0., 0., 0., 2., 0., 0., 0., 0., 0., 0., 1., 1., 1., 0., 0., 0.,\n",
       "        0., 0., 0., 0., 0., 0., 0., 0., 1., 0., 0., 0., 0., 1., 0., 0., 1.,\n",
       "        0., 0., 0., 0., 1., 1., 0., 0., 0., 0., 0., 0., 0., 0., 1.]),\n",
       " array([ 258832.99  ,  320633.5136,  382434.0372,  444234.5608,\n",
       "         506035.0844,  567835.608 ,  629636.1316,  691436.6552,\n",
       "         753237.1788,  815037.7024,  876838.226 ,  938638.7496,\n",
       "        1000439.2732, 1062239.7968, 1124040.3204, 1185840.844 ,\n",
       "        1247641.3676, 1309441.8912, 1371242.4148, 1433042.9384,\n",
       "        1494843.462 , 1556643.9856, 1618444.5092, 1680245.0328,\n",
       "        1742045.5564, 1803846.08  , 1865646.6036, 1927447.1272,\n",
       "        1989247.6508, 2051048.1744, 2112848.698 , 2174649.2216,\n",
       "        2236449.7452, 2298250.2688, 2360050.7924, 2421851.316 ,\n",
       "        2483651.8396, 2545452.3632, 2607252.8868, 2669053.4104,\n",
       "        2730853.934 , 2792654.4576, 2854454.9812, 2916255.5048,\n",
       "        2978056.0284, 3039856.552 , 3101657.0756, 3163457.5992,\n",
       "        3225258.1228, 3287058.6464, 3348859.17  , 3410659.6936,\n",
       "        3472460.2172, 3534260.7408, 3596061.2644, 3657861.788 ,\n",
       "        3719662.3116, 3781462.8352, 3843263.3588, 3905063.8824,\n",
       "        3966864.406 , 4028664.9296, 4090465.4532, 4152265.9768,\n",
       "        4214066.5004, 4275867.024 , 4337667.5476, 4399468.0712,\n",
       "        4461268.5948, 4523069.1184, 4584869.642 , 4646670.1656,\n",
       "        4708470.6892, 4770271.2128, 4832071.7364, 4893872.26  ,\n",
       "        4955672.7836, 5017473.3072, 5079273.8308, 5141074.3544,\n",
       "        5202874.878 , 5264675.4016, 5326475.9252, 5388276.4488,\n",
       "        5450076.9724, 5511877.496 , 5573678.0196, 5635478.5432,\n",
       "        5697279.0668, 5759079.5904, 5820880.114 , 5882680.6376,\n",
       "        5944481.1612, 6006281.6848, 6068082.2084, 6129882.732 ,\n",
       "        6191683.2556, 6253483.7792, 6315284.3028, 6377084.8264,\n",
       "        6438885.35  ]),\n",
       " <BarContainer object of 100 artists>)"
      ]
     },
     "execution_count": 67,
     "metadata": {},
     "output_type": "execute_result"
    },
    {
     "data": {
      "image/png": "[encoded data removed]",
      "text/plain": [
       "<Figure size 640x480 with 1 Axes>"
      ]
     },
     "metadata": {},
     "output_type": "display_data"
    }
   ],
   "source": [
    "# 9. Get a visualization of the distribution of ending values\n",
    "\n",
    "plots.hist(ending_values, bins=100)"
   ]
  },
  {
   "cell_type": "code",
   "execution_count": 68,
   "id": "0be2fccb-3528-490a-8ec4-fd561677da51",
   "metadata": {},
   "outputs": [
    {
     "data": {
      "text/plain": [
       "0.34"
      ]
     },
     "execution_count": 68,
     "metadata": {},
     "output_type": "execute_result"
    }
   ],
   "source": [
    "# 10. Calculate probability of seeing a specific ending_value or less, \n",
    "# for example get close to the 75%ile, or $1,000,000\n",
    "\n",
    "len(ending_values[ending_values<1000000]) / len(ending_values)"
   ]
  },
  {
   "cell_type": "code",
   "execution_count": 69,
   "id": "42aae41f-679e-4b7a-822a-0c05fc3c3fc9",
   "metadata": {},
   "outputs": [
    {
     "data": {
      "text/plain": [
       "0.18"
      ]
     },
     "execution_count": 69,
     "metadata": {},
     "output_type": "execute_result"
    }
   ],
   "source": [
    "# 11. You can't really get a point estimate, but you can get a range ending values\n",
    "\n",
    "len(ending_values[(ending_values> 800000) & (ending_values< 1100000)]) /len(ending_values)"
   ]
  },
  {
   "cell_type": "code",
   "execution_count": 70,
   "id": "cc08d341-ec1d-494b-afa7-a2cde96706ef",
   "metadata": {},
   "outputs": [
    {
     "name": "stdout",
     "output_type": "stream",
     "text": [
      "       5%-ile:  $359,267.19\n",
      "      10%-ile:  $535,655.35\n",
      "      15%-ile:  $660,054.24\n",
      "      25%-ile:  $840,424.19\n",
      "      75%-ile:  $2,301,885.06\n",
      "      85%-ile:  $2,762,792.82\n",
      "      90%-ile:  $3,681,474.69\n",
      "      95%-ile:  $4,973,169.48\n"
     ]
    }
   ],
   "source": [
    "# 12. You can get a more comprehensive table of percentiles easily using numpy's percentile function\n",
    "\n",
    "p_tiles = np.percentile(ending_values,[5,10,15,25,75,85,90, 95])\n",
    "for p in range(len(p_tiles)):\n",
    "    l = [5,10,15,25,75,85,90,95]\n",
    "    print( \"{}%-ile: \".format(l[p]).rjust(15),\"{}\".format(locale.currency(p_tiles[p], grouping=True)))"
   ]
  }
 ],
 "metadata": {
  "kernelspec": {
   "display_name": "Python 3 (ipykernel)",
   "language": "python",
   "name": "python3"
  },
  "language_info": {
   "codemirror_mode": {
    "name": "ipython",
    "version": 3
   },
   "file_extension": ".py",
   "mimetype": "text/x-python",
   "name": "python",
   "nbconvert_exporter": "python",
   "pygments_lexer": "ipython3",
   "version": "3.13.0"
  }
 },
 "nbformat": 4,
 "nbformat_minor": 5
}
