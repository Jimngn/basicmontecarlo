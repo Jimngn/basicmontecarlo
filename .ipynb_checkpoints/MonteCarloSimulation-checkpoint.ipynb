{
 "cells": [
  {
   "cell_type": "markdown",
   "id": "95605c86-226b-41b7-9610-e83fbfeddbc1",
   "metadata": {},
   "source": [
    "# Monto Carlo Simulation of SP500"
   ]
  },
  {
   "cell_type": "markdown",
   "id": "bacb95cc-71c2-4b25-982d-902713bd08d2",
   "metadata": {},
   "source": [
    "**Question: Start with 10k, invest 10k more annually, what is the probability that you will have at least 1mil after 30 years of investing inthe S&P 500 ETF**"
   ]
  },
  {
   "cell_type": "code",
   "execution_count": 2,
   "id": "75b87ed2-a9bc-40f0-a118-e6cddfbb5bbe",
   "metadata": {},
   "outputs": [
    {
     "data": {
      "text/plain": [
       "'en_US.UTF-8'"
      ]
     },
     "execution_count": 2,
     "metadata": {},
     "output_type": "execute_result"
    }
   ],
   "source": [
    "import numpy as np\n",
    "from pandas import Series, DataFrame\n",
    "%matplotlib inline\n",
    "import matplotlib.pyplot as plots\n",
    "\n",
    "#for currency formatting\n",
    "import locale\n",
    "locale.setlocale(locale.LC_ALL, '')"
   ]
  },
  {
   "cell_type": "code",
   "execution_count": null,
   "id": "a6d922ba-2914-473e-b8e4-c36bf3976e62",
   "metadata": {},
   "outputs": [],
   "source": [
    "# trad savings calculator appraoach\n",
    "\n"
   ]
  }
 ],
 "metadata": {
  "kernelspec": {
   "display_name": "Python 3 (ipykernel)",
   "language": "python",
   "name": "python3"
  },
  "language_info": {
   "codemirror_mode": {
    "name": "ipython",
    "version": 3
   },
   "file_extension": ".py",
   "mimetype": "text/x-python",
   "name": "python",
   "nbconvert_exporter": "python",
   "pygments_lexer": "ipython3",
   "version": "3.13.0"
  }
 },
 "nbformat": 4,
 "nbformat_minor": 5
}
